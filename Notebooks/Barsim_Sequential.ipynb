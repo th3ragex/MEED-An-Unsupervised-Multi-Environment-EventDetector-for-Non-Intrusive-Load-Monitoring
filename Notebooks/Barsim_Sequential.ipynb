{
 "cells": [
  {
   "cell_type": "markdown",
   "metadata": {},
   "source": [
    "# Usage of the Event Detector by Barsim et al."
   ]
  },
  {
   "cell_type": "markdown",
   "metadata": {},
   "source": [
    "# Load the required packages"
   ]
  },
  {
   "cell_type": "code",
   "execution_count": 24,
   "metadata": {
    "scrolled": true
   },
   "outputs": [
    {
     "name": "stdout",
     "output_type": "stream",
     "text": [
      "The autoreload extension is already loaded. To reload it, use:\n",
      "  %reload_ext autoreload\n"
     ]
    }
   ],
   "source": [
    "import warnings\n",
    "warnings.filterwarnings(\"ignore\", category=FutureWarning)\n",
    "\n",
    "# Import public packages\n",
    "import sys\n",
    "import os\n",
    "from pathlib import Path\n",
    "#import ipdb\n",
    "from matplotlib import pyplot as plt\n",
    "import glob\n",
    "from datetime import datetime, timedelta\n",
    "import pandas as pd\n",
    "import numpy as np\n",
    "from io import StringIO\n",
    "\n",
    "from pandas.plotting import register_matplotlib_converters\n",
    "register_matplotlib_converters()\n",
    "\n",
    "# Add src to the path for import\n",
    "project_dir = Path(os.getcwd()).resolve().parents[0]\n",
    "module_path = os.path.abspath(os.path.join(project_dir))  \n",
    "if module_path not in sys.path:\n",
    "    sys.path.append(module_path)\n",
    "\n",
    "# Import private source code\n",
    "from Event_Detectors import EventDet_Barsim_Sequential \n",
    "\n",
    "# Activate Autoreload\n",
    "%load_ext autoreload\n",
    "%autoreload 2"
   ]
  },
  {
   "cell_type": "code",
   "execution_count": null,
   "metadata": {},
   "outputs": [],
   "source": []
  },
  {
   "cell_type": "markdown",
   "metadata": {},
   "source": [
    "# Set all global Parameters for the BLUED Dataset"
   ]
  },
  {
   "cell_type": "code",
   "execution_count": 2,
   "metadata": {
    "scrolled": true
   },
   "outputs": [],
   "source": [
    "# Hardcoded Hyperparameters\n",
    "DATASET_LOCATION_BLUED = os.path.join(\"./Test_Data/\") #Path to Test Data\n",
    "DATASET = \"blued_events\" #name of the dataset (used to load the file later with my Utility class)\n",
    "CURRENT_COLUMN = \"Current B\" # Dataset has two phases: phase A and B. They can be treated independently. We load only Phase B.\n",
    "NETWORK_FREQUENCY_BLUED = 60 # Base electrical network frequency of the region where the dataset was recorded\n",
    "SAMPLES_PER_SECOND_BLUED = 2 # We compute two features (data points) per second.\n",
    "SAMPLERATE_BLUED = 12000 # Sampling Rate the raw BLUED Dataset was recorded with \n",
    "\n",
    "# Hyperparameters Dictionary for the Event Detector\n",
    "init_dict_BLUED = {\"dbscan_eps\": 0.03, #epsilon radius parameter for the dbscan algorithm\n",
    "                       \"dbscan_min_pts\": 2,  # minimum points parameter for the dbscan algorithm \n",
    "                       \"window_size_n\": 4,  # datapoints the algorithm takes one at a time\n",
    "                       \"future_window_size_n\": 6,  # datapoints it needs from the future\n",
    "                       \"loss_thresh\": 40, # threshold for model loss \n",
    "                       \"temp_eps\": 0.8, # temporal epsilon parameter of the algorithm\n",
    "                       \"debugging_mode\": False, # debugging, yes or no - if yes detailed information is printed to console\n",
    "                       \"network_frequency\": 60} #base frequency\n",
    "\n",
    "# Compute some relevant window sizes etc. for the \"streaming\"\n",
    "window_size_seconds_BLUED = (init_dict_BLUED[\"window_size_n\"] + init_dict_BLUED[\"future_window_size_n\"]) / SAMPLES_PER_SECOND_BLUED\n",
    "\n",
    "# Compute how big the window is regarding the raw samples --> this is used for the \"streaming\"\n",
    "samples_raw_per_window_BLUED = SAMPLERATE_BLUED *  window_size_seconds_BLUED\n",
    "\n",
    "# Compute the period size of the BLUED dataset: i.e. number of raw data points per period\n",
    "BLUED_period = int(SAMPLERATE_BLUED / NETWORK_FREQUENCY_BLUED) "
   ]
  },
  {
   "cell_type": "markdown",
   "metadata": {},
   "source": [
    "# Load and display the BLUED Test File"
   ]
  },
  {
   "cell_type": "code",
   "execution_count": 3,
   "metadata": {
    "code_folding": [
     0
    ]
   },
   "outputs": [],
   "source": [
    "def load_file_BLUED(file_path, phase=\"b\"):\n",
    "    \"\"\"\n",
    "    Function to load the BLUED test data.\n",
    "     Args:\n",
    "            file_path (Path): full path to the test file\n",
    "            phase (string): either \"all\", \"b\" or \"a\". Returns only the requested phase of the dataset.\n",
    "\n",
    "    Returns:\n",
    "            data_df (pandas DataFrame): original columns if phase==\"all\" else colums are just \"Current\" and \"Voltage\" --> already for the matching phase! (* - 1 done for B)\n",
    "            file_info (dict): dictionary with information about the file that was loaded. Parsed from the filename\n",
    "            and the metadata included in the file.\n",
    "    \"\"\"\n",
    "    with open(file_path, 'r') as f:\n",
    "\n",
    "            data_txt = f.read()\n",
    "\n",
    "            lines = data_txt.splitlines()\n",
    "\n",
    "            data_txt = data_txt.split(\"***End_of_Header***\")\n",
    "            reference_time = data_txt[0].split(\"Date,\")[1][:11].replace(\"\\n\",\"\") +\"-\"+ data_txt[0].split(\"Time,\")[1][:15]\n",
    "            reference_time = datetime.strptime(reference_time, '%Y/%m/%d-%H:%M:%S.%f')\n",
    "\n",
    "\n",
    "            data_time_str = data_txt[1].split(\"Time,\")[1]\n",
    "            data_time_str = data_time_str.split(',')\n",
    "\n",
    "            data_day_str = data_txt[1].split(\"Date,\")[1]\n",
    "            data_day_str = data_day_str.split(',')\n",
    "\n",
    "            day_str = data_day_str[0]  # just the first on is enoguh\n",
    "            time_str = data_time_str[0][:15]  # same for time\n",
    "            date = day_str + \"-\" + time_str\n",
    "            start_date_time = datetime.strptime(date, '%Y/%m/%d-%H:%M:%S.%f')\n",
    "\n",
    "            filename = Path(file_path).name  # get the file name\n",
    "\n",
    "            samples = data_txt[1].split(\"Samples,\")[1].split(\",\")[0:3][0]\n",
    "            samples = int(samples)\n",
    "\n",
    "            values_str = data_txt[-1]\n",
    "            values_str = values_str[values_str.index(\"X_Value\"):]\n",
    "\n",
    "            measurement_steps = data_txt[1].split(\"Delta_X\")[1].split(\",\")[0:3]\n",
    "            measurement_steps = [float(x) for x in measurement_steps if x != \"\"]\n",
    "            measurement_steps = measurement_steps[0]\n",
    "\n",
    "            data_df = pd.read_csv(StringIO(values_str), usecols=[\"X_Value\", \"Current A\", \"Current B\", \"VoltageA\"])\n",
    "\n",
    "            data_df.dropna(inplace=True,how=\"any\")\n",
    "           \n",
    "            file_duration = data_df.tail(1)[\"X_Value\"].values[0]\n",
    "            file_duration = float(file_duration)\n",
    "\n",
    "            file_duration = timedelta(seconds=file_duration)\n",
    "            end_date_time = reference_time + file_duration\n",
    "\n",
    "            file_duration = end_date_time - start_date_time\n",
    "\n",
    "            # Convert totimestamps\n",
    "            data_df[\"TimeStamp\"] = data_df[\"X_Value\"].apply(lambda x: timedelta(seconds=x) + reference_time)\n",
    "            data_df.drop(columns=[\"X_Value\"],inplace=True)\n",
    "            data_df.set_index(\"TimeStamp\",inplace=True)\n",
    "\n",
    "            file_info = {\"Filepath\": file_path, \"Filename\": filename, \"samples\": samples,\n",
    "                         \"file_start\": start_date_time, \"file_duration\": file_duration, \"file_end\": end_date_time,\n",
    "                         \"measurement_steps\": measurement_steps,\"reference_time\":reference_time}\n",
    "\n",
    "            if phase.lower() != \"all\":\n",
    "                if phase.lower() == \"a\":\n",
    "                    data_df[\"Current\"] = data_df[\"Current A\"]\n",
    "                    data_df[\"Voltage\"] = data_df[\"VoltageA\"]\n",
    "                elif phase.lower() == \"b\":\n",
    "                    data_df[\"Current\"] = data_df[\"Current B\"]\n",
    "                    data_df[\"Voltage\"] = data_df[\"VoltageA\"].values * -1\n",
    "                else:\n",
    "                    raise ValueError(\"The phase provided does not exist\")\n",
    "\n",
    "                data_df.drop(columns=['Current A', 'Current B',\"VoltageA\"],inplace=True)\n",
    "\n",
    "    return data_df, file_info"
   ]
  },
  {
   "cell_type": "code",
   "execution_count": 4,
   "metadata": {},
   "outputs": [],
   "source": [
    "def load_labels(file_path:str, file_start, file_end, phase:str='b'):\n",
    "    labels_df = pd.read_csv(file_path, usecols=[\"Timestamp\", \"Label\", \"Phase\"])\n",
    "\n",
    "    if phase.lower() != \"all\":\n",
    "        labels_df = labels_df[labels_df.Phase == phase.upper()]\n",
    "\n",
    "    labels_df.Timestamp = pd.to_datetime(labels_df.Timestamp, infer_datetime_format=True)\n",
    "    time_range_condition = (labels_df.Timestamp >= file_start) & (labels_df.Timestamp <= file_end)\n",
    "    labels_df = labels_df[time_range_condition]\n",
    "    labels_df.set_index(\"Timestamp\", inplace=True)\n",
    "    return labels_df"
   ]
  },
  {
   "cell_type": "code",
   "execution_count": 7,
   "metadata": {
    "code_folding": [],
    "scrolled": false
   },
   "outputs": [
    {
     "data": {
      "image/png": "[encoded data removed]",
      "text/plain": [
       "<Figure size 1296x720 with 1 Axes>"
      ]
     },
     "metadata": {
      "needs_background": "light"
     },
     "output_type": "display_data"
    }
   ],
   "source": [
    "# Get the Test File\n",
    "test_file = glob.glob(os.path.join(DATASET_LOCATION_BLUED, \"*.txt\"))[0] #get the full path of the test file\n",
    "\n",
    "# Load the Data from the test File\n",
    "data,file_info = load_file_BLUED(test_file)\n",
    "\n",
    "lable_path:str = glob.glob(os.path.join(DATASET_LOCATION_BLUED, \"*.csv\"))[0]\n",
    "data_start = file_info['file_start']\n",
    "data_end = file_info['file_end']\n",
    "\n",
    "labels = load_labels(lable_path, data_start, data_end)\n",
    "\n",
    "current = data[\"Current\"]\n",
    "voltage = data[\"Voltage\"]\n",
    "\n",
    "# Plot the data from the test File\n",
    "_, ax = plt.subplots(figsize=(18,10))\n",
    "plt.title(\"Full Current signal of Test File\")\n",
    "plt.ylabel(\"Current\")\n",
    "plt.xlabel(\"Time\")\n",
    "\n",
    "ax.plot(current)\n",
    "ax.scatter(x=labels.index, y=np.zeros(len(labels.index)), color='r',zorder=100)\n",
    "\n",
    "\n",
    "ax.vlines(x=labels.index, color='r',ymin=-80, ymax=80, zorder=101)\n",
    "plt.show()\n"
   ]
  },
  {
   "cell_type": "markdown",
   "metadata": {},
   "source": [
    "# Run the Event Detection on the Test Data"
   ]
  },
  {
   "cell_type": "code",
   "execution_count": 56,
   "metadata": {
    "scrolled": false
   },
   "outputs": [
    {
     "name": "stderr",
     "output_type": "stream",
     "text": [
      "C:\\Users\\rgj\\Desktop\\nilm\\Event_Detectors\\Event_Detectors.py:1947: Warning: You have provided less then 5 times of future_window_samples_n than window_size_n samples to the algorithm. Please make sure that your window_size_n is at least big enough for the event detector to work. We recommend using more future samples\n",
      "  \"event detector to work. We recommend using more future samples\", Warning)\n"
     ]
    },
    {
     "name": "stdout",
     "output_type": "stream",
     "text": [
      ">  (0-60000)\n",
      "+++++++++++++++++++++++++++++++++++\n",
      ">  (60000-120000)\n",
      "+++++++++++++++++++++++++++++++++++\n",
      ">  (120000-180000)\n",
      "+++++++++++++++++++++++++++++++++++\n",
      ">  (180000-240000)\n",
      "+++++++++++++++++++++++++++++++++++\n",
      ">  (240000-300000)\n",
      "+++++++++++++++++++++++++++++++++++\n",
      ">  (300000-360000)\n",
      "+++++++++++++++++++++++++++++++++++\n",
      ">  (360000-420000)\n",
      "+++++++++++++++++++++++++++++++++++\n",
      ">  (420000-480000)\n",
      "Event Detected at (5, 6)  (420000-480000)\n",
      "+++++++++++++++++++++++++++++++++++\n",
      ">  (456000-516000)\n",
      "+++++++++++++++++++++++++++++++++++\n",
      ">  (516000-576000)\n",
      "Event Detected at (5, 5)  (516000-576000)\n",
      "+++++++++++++++++++++++++++++++++++\n",
      ">  (546000-606000)\n",
      "Event Detected at (3, 4)  (546000-606000)\n",
      "+++++++++++++++++++++++++++++++++++\n",
      ">  (570000-630000)\n",
      "Event Detected at (4, 4)  (570000-630000)\n",
      "+++++++++++++++++++++++++++++++++++\n",
      ">  (594000-654000)\n",
      "Event Detected at (4, 5)  (594000-654000)\n",
      "+++++++++++++++++++++++++++++++++++\n",
      ">  (624000-684000)\n",
      "Event Detected at (5, 5)  (624000-684000)\n",
      "+++++++++++++++++++++++++++++++++++\n",
      ">  (654000-714000)\n",
      "Event Detected at (3, 4)  (654000-714000)\n",
      "+++++++++++++++++++++++++++++++++++\n",
      ">  (678000-738000)\n",
      "Event Detected at (3, 3)  (678000-738000)\n",
      "+++++++++++++++++++++++++++++++++++\n",
      ">  (696000-756000)\n",
      "Event Detected at (5, 5)  (696000-756000)\n",
      "+++++++++++++++++++++++++++++++++++\n",
      ">  (726000-786000)\n",
      "Event Detected at (5, 5)  (726000-786000)\n",
      "+++++++++++++++++++++++++++++++++++\n",
      ">  (756000-816000)\n",
      "Event Detected at (3, 4)  (756000-816000)\n",
      "+++++++++++++++++++++++++++++++++++\n",
      ">  (780000-840000)\n",
      "+++++++++++++++++++++++++++++++++++\n",
      ">  (840000-900000)\n",
      "Event Detected at (3, 3)  (840000-900000)\n",
      "+++++++++++++++++++++++++++++++++++\n",
      ">  (858000-918000)\n",
      "Event Detected at (4, 5)  (858000-918000)\n",
      "+++++++++++++++++++++++++++++++++++\n",
      ">  (888000-948000)\n",
      "Event Detected at (3, 3)  (888000-948000)\n",
      "+++++++++++++++++++++++++++++++++++\n",
      ">  (906000-966000)\n",
      "Event Detected at (6, 6)  (906000-966000)\n",
      "+++++++++++++++++++++++++++++++++++\n",
      ">  (942000-1002000)\n",
      "Event Detected at (4, 4)  (942000-1002000)\n",
      "+++++++++++++++++++++++++++++++++++\n",
      ">  (966000-1026000)\n",
      "Event Detected at (5, 5)  (966000-1026000)\n",
      "+++++++++++++++++++++++++++++++++++\n",
      ">  (996000-1056000)\n",
      "Event Detected at (3, 3)  (996000-1056000)\n",
      "+++++++++++++++++++++++++++++++++++\n",
      ">  (1014000-1074000)\n",
      "Event Detected at (6, 7)  (1014000-1074000)\n",
      "+++++++++++++++++++++++++++++++++++\n",
      ">  (1056000-1116000)\n",
      "Event Detected at (3, 3)  (1056000-1116000)\n",
      "+++++++++++++++++++++++++++++++++++\n"
     ]
    }
   ],
   "source": [
    "found_events=[]\n",
    "found_events_mean=[]\n",
    "show_plots = False\n",
    "\n",
    "samples_remaining = len(current) # number of samples that we have not predicted yet\n",
    "window_start = 0 # offset of the next window\n",
    "\n",
    "# Step 1: Initialize  the Event Detector with the Hypperparameter dictionary \n",
    "EventDet_Barsim = EventDet_Barsim_Sequential(**init_dict_BLUED) #i.e. values are unpacked into the parameters\n",
    "EventDet_Barsim.fit() # Call the fit() method to further initialize the algorithm (required by the sklearn API)\n",
    "\n",
    "while samples_remaining >= samples_raw_per_window_BLUED: #while we still have samples to \"stream\" do the following\n",
    "    \n",
    "    window_stop = int(window_start + samples_raw_per_window_BLUED) # compute end index of the new window\n",
    "    \n",
    "    # Get the voltage and current windows\n",
    "    voltage_window = voltage[window_start:window_stop]\n",
    "    current_window = current[window_start:window_stop]\n",
    "\n",
    "    # Step 2: Use the feature computation function of the algorithm to compute the input features\n",
    "    X = EventDet_Barsim.compute_input_signal(voltage=voltage_window, current=current_window, period_length=BLUED_period) \n",
    "    \n",
    "      \n",
    "    # Step 3: Run the prediciton on the features\n",
    "    event_interval_indices = EventDet_Barsim.predict(X) #(start_index, end_index) of event if existent is returned\n",
    "    print(\">\"+ f\"  ({window_start}-{window_stop})\")\n",
    "    if event_interval_indices is not None: # if an event is returned\n",
    "        \n",
    "        print(\"Event Detected at \" + str(event_interval_indices)+ f\"  ({window_start}-{window_stop})\")\n",
    "\n",
    "        # Plot the computed features\n",
    "        if show_plots:\n",
    "            #draw range\n",
    "            range_line = np.full_like(X, np.NaN)\n",
    "            range_line[event_interval_indices[0]:event_interval_indices[1]+1] = X[event_interval_indices[0]:event_interval_indices[1]+1]\n",
    "            \n",
    "            plt.title(\"Computed input features for this window\"+ f\"  ({window_start}-{window_stop})\")\n",
    "            plt.plot(X)\n",
    "            plt.plot(range_line, color='g', zorder=100, marker='x')\n",
    "            plt.show()\n",
    "        \n",
    "        # Instead of an event interval, we might be interested in an exact event point\n",
    "        # Hence, we just take the mean of the interval boundaries\n",
    "        event_time = data.index[int(window_start+EventDet_Barsim._convert_relative_offset(event_interval_indices[0]))]\n",
    "        found_events.append(str(event_time))\n",
    "        \n",
    "        mean_event_index = np.mean([event_interval_indices[0], event_interval_indices[1]])\n",
    "        mean_event_time = data.index[int(window_start+EventDet_Barsim._convert_relative_offset(mean_event_index))]\n",
    "        found_events_mean.append(str(mean_event_time))\n",
    "        \n",
    "        # We compute a new offset: We start of at the event index\n",
    "        # The event indices returned are with respect to the feature domain\n",
    "        # To \"stream\" the next window, we need it with respect to the raw input data domain\n",
    "        end_index = EventDet_Barsim._convert_relative_offset(event_interval_indices[1])  # convert it to input domain with utility function\n",
    "        \n",
    "        # We need to update the data points that remain for streaming now.\n",
    "        window_start = int(window_start + end_index) # set new starting point\n",
    "        \n",
    "        print(\"+++++++++++++++++++++++++++++++++++\")\n",
    "        \n",
    "        # We need to update the data points that remain for streaming now.\n",
    "        samples_remaining -= end_index\n",
    "        \n",
    "    else: #no event was detected\n",
    "        \n",
    "        # We start at the end of the previous window\n",
    "        window_start = int(window_stop)\n",
    "        \n",
    "        # Plot the computed features\n",
    "        if show_plots:\n",
    "            plt.title(\"Computed input features for this window\"+ f\"  ({window_start}-{window_stop})\")\n",
    "            plt.plot(X)\n",
    "            plt.show()\n",
    "        \n",
    "        print(\"+++++++++++++++++++++++++++++++++++\")\n",
    "    \n",
    "        # We need to update the data points that remain for streaming now.\n",
    "        samples_remaining -= samples_raw_per_window_BLUED"
   ]
  },
  {
   "cell_type": "code",
   "execution_count": 57,
   "metadata": {},
   "outputs": [
    {
     "data": {
      "text/plain": [
       "['2011-10-23 20:35:53.273499',\n",
       " '2011-10-23 20:36:01.273499',\n",
       " '2011-10-23 20:36:02.773499',\n",
       " '2011-10-23 20:36:05.273499',\n",
       " '2011-10-23 20:36:07.273499',\n",
       " '2011-10-23 20:36:10.273499',\n",
       " '2011-10-23 20:36:11.773499',\n",
       " '2011-10-23 20:36:13.773499',\n",
       " '2011-10-23 20:36:16.273499',\n",
       " '2011-10-23 20:36:18.773499',\n",
       " '2011-10-23 20:36:20.273499',\n",
       " '2011-10-23 20:36:27.273499',\n",
       " '2011-10-23 20:36:29.273499',\n",
       " '2011-10-23 20:36:31.273499',\n",
       " '2011-10-23 20:36:34.273499',\n",
       " '2011-10-23 20:36:36.273499',\n",
       " '2011-10-23 20:36:38.773499',\n",
       " '2011-10-23 20:36:40.273499',\n",
       " '2011-10-23 20:36:43.273499',\n",
       " '2011-10-23 20:36:45.273499']"
      ]
     },
     "execution_count": 57,
     "metadata": {},
     "output_type": "execute_result"
    }
   ],
   "source": [
    "found_events"
   ]
  },
  {
   "cell_type": "code",
   "execution_count": 58,
   "metadata": {},
   "outputs": [
    {
     "data": {
      "text/plain": [
       "DatetimeIndex(['2011-10-23 20:35:41.723000', '2011-10-23 20:35:49.290000',\n",
       "               '2011-10-23 20:35:49.790000', '2011-10-23 20:35:51.174000',\n",
       "               '2011-10-23 20:35:52.973000', '2011-10-23 20:35:56.257000',\n",
       "               '2011-10-23 20:35:57.973000', '2011-10-23 20:36:01.073000',\n",
       "               '2011-10-23 20:36:02.540000', '2011-10-23 20:36:05.007000',\n",
       "               '2011-10-23 20:36:06.990000', '2011-10-23 20:36:09.857000',\n",
       "               '2011-10-23 20:36:11.490000', '2011-10-23 20:36:13.590000',\n",
       "               '2011-10-23 20:36:15.823000', '2011-10-23 20:36:18.424000',\n",
       "               '2011-10-23 20:36:20.240000', '2011-10-23 20:36:22.257000',\n",
       "               '2011-10-23 20:36:24.757000', '2011-10-23 20:36:27.207000',\n",
       "               '2011-10-23 20:36:29.240000', '2011-10-23 20:36:31.124000',\n",
       "               '2011-10-23 20:36:33.790000', '2011-10-23 20:36:36.124000',\n",
       "               '2011-10-23 20:36:38.274000', '2011-10-23 20:36:40.040000',\n",
       "               '2011-10-23 20:36:42.907000', '2011-10-23 20:36:45.124000',\n",
       "               '2011-10-23 20:36:47.390000', '2011-10-23 20:36:49.040000'],\n",
       "              dtype='datetime64[ns]', name='Timestamp', freq=None)"
      ]
     },
     "execution_count": 58,
     "metadata": {},
     "output_type": "execute_result"
    }
   ],
   "source": [
    "labels.index"
   ]
  },
  {
   "cell_type": "code",
   "execution_count": 59,
   "metadata": {},
   "outputs": [
    {
     "data": {
      "image/png": "[encoded data removed]",
      "text/plain": [
       "<Figure size 1296x720 with 1 Axes>"
      ]
     },
     "metadata": {
      "needs_background": "light"
     },
     "output_type": "display_data"
    }
   ],
   "source": [
    "_, ax = plt.subplots(figsize=(18,10))\n",
    "plt.title(\"Full Current signal of Test File\")\n",
    "plt.ylabel(\"Current\")\n",
    "plt.xlabel(\"Time\")\n",
    "\n",
    "ax.plot(current)\n",
    "ax.scatter(x=labels.index, y=np.zeros(len(labels.index)), color='r',zorder=100)\n",
    "\n",
    "\n",
    "ax.vlines(x=found_events, color='red',ymin=-80, ymax=80, zorder=101)\n",
    "\n",
    "#end of sliding window\n",
    "ax.vlines(x=data.index[window_start], color='y',ymin=-80, ymax=80, zorder=101)\n",
    "plt.show()"
   ]
  },
  {
   "cell_type": "code",
   "execution_count": null,
   "metadata": {},
   "outputs": [],
   "source": []
  },
  {
   "cell_type": "code",
   "execution_count": null,
   "metadata": {},
   "outputs": [],
   "source": []
  }
 ],
 "metadata": {
  "kernelspec": {
   "display_name": "Python 3",
   "language": "python",
   "name": "python3"
  },
  "language_info": {
   "codemirror_mode": {
    "name": "ipython",
    "version": 3
   },
   "file_extension": ".py",
   "mimetype": "text/x-python",
   "name": "python",
   "nbconvert_exporter": "python",
   "pygments_lexer": "ipython3",
   "version": "3.7.4"
  },
  "varInspector": {
   "cols": {
    "lenName": 16,
    "lenType": 16,
    "lenVar": 40
   },
   "kernels_config": {
    "python": {
     "delete_cmd_postfix": "",
     "delete_cmd_prefix": "del ",
     "library": "var_list.py",
     "varRefreshCmd": "print(var_dic_list())"
    },
    "r": {
     "delete_cmd_postfix": ") ",
     "delete_cmd_prefix": "rm(",
     "library": "var_list.r",
     "varRefreshCmd": "cat(var_dic_list()) "
    }
   },
   "types_to_exclude": [
    "module",
    "function",
    "builtin_function_or_method",
    "instance",
    "_Feature"
   ],
   "window_display": false
  }
 },
 "nbformat": 4,
 "nbformat_minor": 2
}
